{
 "cells": [
  {
   "cell_type": "markdown",
   "source": [
    "**Goal**\n",
    "Predict defects in C programs given various various attributes about the code."
   ],
   "metadata": {
    "collapsed": false
   }
  },
  {
   "cell_type": "markdown",
   "source": [
    "**Evaluation**\n",
    "Submissions are evaluated on area under the ROC curve between the predicted probability and the observed target."
   ],
   "metadata": {
    "collapsed": false
   }
  },
  {
   "cell_type": "code",
   "execution_count": 1,
   "metadata": {
    "collapsed": true,
    "ExecuteTime": {
     "end_time": "2023-10-30T15:04:26.326787Z",
     "start_time": "2023-10-30T15:04:26.310832Z"
    }
   },
   "outputs": [],
   "source": [
    "import pandas as pd\n",
    "import numpy as np\n",
    "\n",
    "import seaborn as sns\n",
    "import matplotlib.pyplot as plt"
   ]
  },
  {
   "cell_type": "code",
   "execution_count": 3,
   "outputs": [],
   "source": [
    "train = pd.read_csv(\"data/train.csv\", index_col='id', dtype={})"
   ],
   "metadata": {
    "collapsed": false,
    "ExecuteTime": {
     "end_time": "2023-10-30T15:04:59.419644Z",
     "start_time": "2023-10-30T15:04:59.289221Z"
    }
   }
  },
  {
   "cell_type": "code",
   "execution_count": null,
   "outputs": [],
   "source": [
    "test = pd.read_csv(\"data/test.csv\", index_col='id')"
   ],
   "metadata": {
    "collapsed": false
   }
  },
  {
   "cell_type": "code",
   "execution_count": null,
   "outputs": [],
   "source": [
    "original = pd.read_csv(\"data/original.csv\")"
   ],
   "metadata": {
    "collapsed": false
   }
  },
  {
   "cell_type": "code",
   "execution_count": null,
   "outputs": [],
   "source": [
    "data = pd.concat([train,test], axis=0)"
   ],
   "metadata": {
    "collapsed": false
   }
  },
  {
   "cell_type": "code",
   "execution_count": null,
   "outputs": [],
   "source": [
    "data.info()"
   ],
   "metadata": {
    "collapsed": false
   }
  },
  {
   "cell_type": "code",
   "execution_count": null,
   "outputs": [],
   "source": [
    "data.duplicated().sum()"
   ],
   "metadata": {
    "collapsed": false
   }
  },
  {
   "cell_type": "code",
   "execution_count": null,
   "outputs": [],
   "source": [
    "data.defects.value_counts(True)"
   ],
   "metadata": {
    "collapsed": false
   }
  },
  {
   "cell_type": "code",
   "execution_count": 11,
   "outputs": [
    {
     "name": "stdout",
     "output_type": "stream",
     "text": [
      "<class 'pandas.core.frame.DataFrame'>\n",
      "Index: 101763 entries, 0 to 101762\n",
      "Data columns (total 22 columns):\n",
      " #   Column             Non-Null Count   Dtype  \n",
      "---  ------             --------------   -----  \n",
      " 0   loc                101763 non-null  float64\n",
      " 1   v(g)               101763 non-null  float64\n",
      " 2   ev(g)              101763 non-null  float64\n",
      " 3   iv(g)              101763 non-null  float64\n",
      " 4   n                  101763 non-null  float64\n",
      " 5   v                  101763 non-null  float64\n",
      " 6   l                  101763 non-null  float64\n",
      " 7   d                  101763 non-null  float64\n",
      " 8   i                  101763 non-null  float64\n",
      " 9   e                  101763 non-null  float64\n",
      " 10  b                  101763 non-null  float64\n",
      " 11  t                  101763 non-null  float64\n",
      " 12  lOCode             101763 non-null  int64  \n",
      " 13  lOComment          101763 non-null  int64  \n",
      " 14  lOBlank            101763 non-null  int64  \n",
      " 15  locCodeAndComment  101763 non-null  int64  \n",
      " 16  uniq_Op            101763 non-null  float64\n",
      " 17  uniq_Opnd          101763 non-null  float64\n",
      " 18  total_Op           101763 non-null  float64\n",
      " 19  total_Opnd         101763 non-null  float64\n",
      " 20  branchCount        101763 non-null  float64\n",
      " 21  defects            101763 non-null  bool   \n",
      "dtypes: bool(1), float64(17), int64(4)\n",
      "memory usage: 17.2 MB\n"
     ]
    }
   ],
   "source": [
    "train.info()"
   ],
   "metadata": {
    "collapsed": false,
    "ExecuteTime": {
     "end_time": "2023-10-11T18:57:18.574313Z",
     "start_time": "2023-10-11T18:57:18.555708Z"
    }
   }
  },
  {
   "cell_type": "code",
   "execution_count": 4,
   "outputs": [
    {
     "data": {
      "text/plain": "          loc  v(g)  ev(g)  iv(g)      n        v     l      d      i  \\\nid                                                                      \n0        22.0   3.0    1.0    2.0   60.0   278.63  0.06  19.56  14.25   \n1        14.0   2.0    1.0    2.0   32.0   151.27  0.14   7.00  21.11   \n2        11.0   2.0    1.0    2.0   45.0   197.65  0.11   8.05  22.76   \n3         8.0   1.0    1.0    1.0   23.0    94.01  0.19   5.25  17.86   \n4        11.0   2.0    1.0    2.0   17.0    60.94  0.18   5.63  12.44   \n...       ...   ...    ...    ...    ...      ...   ...    ...    ...   \n101758   10.0   2.0    1.0    1.0   28.0   122.98  0.15   6.60  18.63   \n101759   27.0   5.0    4.0    1.0  107.0   559.93  0.06  18.00  34.17   \n101760   26.0   1.0    1.0    1.0   83.0   360.17  0.04  22.75  12.56   \n101761   10.0   2.0    1.0    2.0   43.0   191.76  0.15   6.46  29.53   \n101762  136.0  18.0   18.0    1.0  296.0  1704.57  0.02  44.82  44.08   \n\n               e  ...  lOCode  lOComment  lOBlank  locCodeAndComment  uniq_Op  \\\nid                ...                                                           \n0        5448.79  ...      17          1        1                  0     16.0   \n1         936.71  ...      11          0        1                  0     11.0   \n2        1754.01  ...       8          0        1                  0     12.0   \n3         473.66  ...       4          0        2                  0      8.0   \n4         365.67  ...       7          0        2                  0      7.0   \n...          ...  ...     ...        ...      ...                ...      ...   \n101758    811.70  ...       7          0        1                  0     11.0   \n101759  11268.27  ...      23          0        2                  0     18.0   \n101760   5893.69  ...      20          0        4                  0     10.0   \n101761   1534.04  ...       7          0        1                  0     11.0   \n101762  77011.02  ...     102          1       11                  0     22.0   \n\n        uniq_Opnd  total_Op  total_Opnd  branchCount  defects  \nid                                                             \n0             9.0      38.0        22.0          5.0    False  \n1            11.0      18.0        14.0          3.0    False  \n2            11.0      28.0        17.0          3.0    False  \n3             6.0      16.0         7.0          1.0     True  \n4             6.0      10.0        10.0          3.0    False  \n...           ...       ...         ...          ...      ...  \n101758        8.0      16.0        12.0          3.0    False  \n101759       20.0      67.0        40.0          9.0    False  \n101760        8.0      51.0        28.0          1.0    False  \n101761       14.0      24.0        19.0          3.0    False  \n101762       31.0     162.0       135.0         35.0    False  \n\n[101763 rows x 22 columns]",
      "text/html": "<div>\n<style scoped>\n    .dataframe tbody tr th:only-of-type {\n        vertical-align: middle;\n    }\n\n    .dataframe tbody tr th {\n        vertical-align: top;\n    }\n\n    .dataframe thead th {\n        text-align: right;\n    }\n</style>\n<table border=\"1\" class=\"dataframe\">\n  <thead>\n    <tr style=\"text-align: right;\">\n      <th></th>\n      <th>loc</th>\n      <th>v(g)</th>\n      <th>ev(g)</th>\n      <th>iv(g)</th>\n      <th>n</th>\n      <th>v</th>\n      <th>l</th>\n      <th>d</th>\n      <th>i</th>\n      <th>e</th>\n      <th>...</th>\n      <th>lOCode</th>\n      <th>lOComment</th>\n      <th>lOBlank</th>\n      <th>locCodeAndComment</th>\n      <th>uniq_Op</th>\n      <th>uniq_Opnd</th>\n      <th>total_Op</th>\n      <th>total_Opnd</th>\n      <th>branchCount</th>\n      <th>defects</th>\n    </tr>\n    <tr>\n      <th>id</th>\n      <th></th>\n      <th></th>\n      <th></th>\n      <th></th>\n      <th></th>\n      <th></th>\n      <th></th>\n      <th></th>\n      <th></th>\n      <th></th>\n      <th></th>\n      <th></th>\n      <th></th>\n      <th></th>\n      <th></th>\n      <th></th>\n      <th></th>\n      <th></th>\n      <th></th>\n      <th></th>\n      <th></th>\n    </tr>\n  </thead>\n  <tbody>\n    <tr>\n      <th>0</th>\n      <td>22.0</td>\n      <td>3.0</td>\n      <td>1.0</td>\n      <td>2.0</td>\n      <td>60.0</td>\n      <td>278.63</td>\n      <td>0.06</td>\n      <td>19.56</td>\n      <td>14.25</td>\n      <td>5448.79</td>\n      <td>...</td>\n      <td>17</td>\n      <td>1</td>\n      <td>1</td>\n      <td>0</td>\n      <td>16.0</td>\n      <td>9.0</td>\n      <td>38.0</td>\n      <td>22.0</td>\n      <td>5.0</td>\n      <td>False</td>\n    </tr>\n    <tr>\n      <th>1</th>\n      <td>14.0</td>\n      <td>2.0</td>\n      <td>1.0</td>\n      <td>2.0</td>\n      <td>32.0</td>\n      <td>151.27</td>\n      <td>0.14</td>\n      <td>7.00</td>\n      <td>21.11</td>\n      <td>936.71</td>\n      <td>...</td>\n      <td>11</td>\n      <td>0</td>\n      <td>1</td>\n      <td>0</td>\n      <td>11.0</td>\n      <td>11.0</td>\n      <td>18.0</td>\n      <td>14.0</td>\n      <td>3.0</td>\n      <td>False</td>\n    </tr>\n    <tr>\n      <th>2</th>\n      <td>11.0</td>\n      <td>2.0</td>\n      <td>1.0</td>\n      <td>2.0</td>\n      <td>45.0</td>\n      <td>197.65</td>\n      <td>0.11</td>\n      <td>8.05</td>\n      <td>22.76</td>\n      <td>1754.01</td>\n      <td>...</td>\n      <td>8</td>\n      <td>0</td>\n      <td>1</td>\n      <td>0</td>\n      <td>12.0</td>\n      <td>11.0</td>\n      <td>28.0</td>\n      <td>17.0</td>\n      <td>3.0</td>\n      <td>False</td>\n    </tr>\n    <tr>\n      <th>3</th>\n      <td>8.0</td>\n      <td>1.0</td>\n      <td>1.0</td>\n      <td>1.0</td>\n      <td>23.0</td>\n      <td>94.01</td>\n      <td>0.19</td>\n      <td>5.25</td>\n      <td>17.86</td>\n      <td>473.66</td>\n      <td>...</td>\n      <td>4</td>\n      <td>0</td>\n      <td>2</td>\n      <td>0</td>\n      <td>8.0</td>\n      <td>6.0</td>\n      <td>16.0</td>\n      <td>7.0</td>\n      <td>1.0</td>\n      <td>True</td>\n    </tr>\n    <tr>\n      <th>4</th>\n      <td>11.0</td>\n      <td>2.0</td>\n      <td>1.0</td>\n      <td>2.0</td>\n      <td>17.0</td>\n      <td>60.94</td>\n      <td>0.18</td>\n      <td>5.63</td>\n      <td>12.44</td>\n      <td>365.67</td>\n      <td>...</td>\n      <td>7</td>\n      <td>0</td>\n      <td>2</td>\n      <td>0</td>\n      <td>7.0</td>\n      <td>6.0</td>\n      <td>10.0</td>\n      <td>10.0</td>\n      <td>3.0</td>\n      <td>False</td>\n    </tr>\n    <tr>\n      <th>...</th>\n      <td>...</td>\n      <td>...</td>\n      <td>...</td>\n      <td>...</td>\n      <td>...</td>\n      <td>...</td>\n      <td>...</td>\n      <td>...</td>\n      <td>...</td>\n      <td>...</td>\n      <td>...</td>\n      <td>...</td>\n      <td>...</td>\n      <td>...</td>\n      <td>...</td>\n      <td>...</td>\n      <td>...</td>\n      <td>...</td>\n      <td>...</td>\n      <td>...</td>\n      <td>...</td>\n    </tr>\n    <tr>\n      <th>101758</th>\n      <td>10.0</td>\n      <td>2.0</td>\n      <td>1.0</td>\n      <td>1.0</td>\n      <td>28.0</td>\n      <td>122.98</td>\n      <td>0.15</td>\n      <td>6.60</td>\n      <td>18.63</td>\n      <td>811.70</td>\n      <td>...</td>\n      <td>7</td>\n      <td>0</td>\n      <td>1</td>\n      <td>0</td>\n      <td>11.0</td>\n      <td>8.0</td>\n      <td>16.0</td>\n      <td>12.0</td>\n      <td>3.0</td>\n      <td>False</td>\n    </tr>\n    <tr>\n      <th>101759</th>\n      <td>27.0</td>\n      <td>5.0</td>\n      <td>4.0</td>\n      <td>1.0</td>\n      <td>107.0</td>\n      <td>559.93</td>\n      <td>0.06</td>\n      <td>18.00</td>\n      <td>34.17</td>\n      <td>11268.27</td>\n      <td>...</td>\n      <td>23</td>\n      <td>0</td>\n      <td>2</td>\n      <td>0</td>\n      <td>18.0</td>\n      <td>20.0</td>\n      <td>67.0</td>\n      <td>40.0</td>\n      <td>9.0</td>\n      <td>False</td>\n    </tr>\n    <tr>\n      <th>101760</th>\n      <td>26.0</td>\n      <td>1.0</td>\n      <td>1.0</td>\n      <td>1.0</td>\n      <td>83.0</td>\n      <td>360.17</td>\n      <td>0.04</td>\n      <td>22.75</td>\n      <td>12.56</td>\n      <td>5893.69</td>\n      <td>...</td>\n      <td>20</td>\n      <td>0</td>\n      <td>4</td>\n      <td>0</td>\n      <td>10.0</td>\n      <td>8.0</td>\n      <td>51.0</td>\n      <td>28.0</td>\n      <td>1.0</td>\n      <td>False</td>\n    </tr>\n    <tr>\n      <th>101761</th>\n      <td>10.0</td>\n      <td>2.0</td>\n      <td>1.0</td>\n      <td>2.0</td>\n      <td>43.0</td>\n      <td>191.76</td>\n      <td>0.15</td>\n      <td>6.46</td>\n      <td>29.53</td>\n      <td>1534.04</td>\n      <td>...</td>\n      <td>7</td>\n      <td>0</td>\n      <td>1</td>\n      <td>0</td>\n      <td>11.0</td>\n      <td>14.0</td>\n      <td>24.0</td>\n      <td>19.0</td>\n      <td>3.0</td>\n      <td>False</td>\n    </tr>\n    <tr>\n      <th>101762</th>\n      <td>136.0</td>\n      <td>18.0</td>\n      <td>18.0</td>\n      <td>1.0</td>\n      <td>296.0</td>\n      <td>1704.57</td>\n      <td>0.02</td>\n      <td>44.82</td>\n      <td>44.08</td>\n      <td>77011.02</td>\n      <td>...</td>\n      <td>102</td>\n      <td>1</td>\n      <td>11</td>\n      <td>0</td>\n      <td>22.0</td>\n      <td>31.0</td>\n      <td>162.0</td>\n      <td>135.0</td>\n      <td>35.0</td>\n      <td>False</td>\n    </tr>\n  </tbody>\n</table>\n<p>101763 rows × 22 columns</p>\n</div>"
     },
     "execution_count": 4,
     "metadata": {},
     "output_type": "execute_result"
    }
   ],
   "source": [
    "train"
   ],
   "metadata": {
    "collapsed": false,
    "ExecuteTime": {
     "end_time": "2023-10-30T15:05:01.798953Z",
     "start_time": "2023-10-30T15:05:01.770370Z"
    }
   }
  },
  {
   "cell_type": "code",
   "execution_count": 7,
   "outputs": [
    {
     "data": {
      "text/plain": "<seaborn.axisgrid.FacetGrid at 0x13449d120>"
     },
     "execution_count": 7,
     "metadata": {},
     "output_type": "execute_result"
    },
    {
     "data": {
      "text/plain": "<Figure size 500x500 with 1 Axes>",
      "image/png": "[encoded data removed]"
     },
     "metadata": {},
     "output_type": "display_data"
    }
   ],
   "source": [
    "sns.displot(train, x='defects')"
   ],
   "metadata": {
    "collapsed": false,
    "ExecuteTime": {
     "end_time": "2023-10-30T15:05:24.379367Z",
     "start_time": "2023-10-30T15:05:24.182761Z"
    }
   }
  },
  {
   "cell_type": "code",
   "execution_count": null,
   "outputs": [],
   "source": [],
   "metadata": {
    "collapsed": false
   }
  }
 ],
 "metadata": {
  "kernelspec": {
   "display_name": "Python 3",
   "language": "python",
   "name": "python3"
  },
  "language_info": {
   "codemirror_mode": {
    "name": "ipython",
    "version": 2
   },
   "file_extension": ".py",
   "mimetype": "text/x-python",
   "name": "python",
   "nbconvert_exporter": "python",
   "pygments_lexer": "ipython2",
   "version": "2.7.6"
  }
 },
 "nbformat": 4,
 "nbformat_minor": 0
}
